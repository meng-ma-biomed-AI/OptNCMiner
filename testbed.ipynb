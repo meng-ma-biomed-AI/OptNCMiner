{
 "cells": [
  {
   "cell_type": "code",
   "execution_count": 1,
   "id": "30524a42",
   "metadata": {},
   "outputs": [],
   "source": [
    "import logging\n",
    "from preprocess import preprocess_directory,addSupport, preprocess_multilabel\n",
    "from model import loadModel\n",
    "from utils import trainCycle,testCycle, transferTrainCycle,tfTestCycle, evaluation, evaluation_multilabel\n",
    "import pandas as pd\n"
   ]
  },
  {
   "cell_type": "code",
   "execution_count": 3,
   "id": "37b00ae5",
   "metadata": {},
   "outputs": [],
   "source": [
    " \"\"\" Parameters setting\"\"\"\n",
    "X = ['X%d' % i for i in range(1, 1025)]  # fingerprint columns\n",
    "Y=\"potency\" # classification column\n",
    "label=\"SMILES\" # raw fingerprint column\n",
    "exceptions=[]  # names to not include in training\n",
    "path='BaseSet' # directory containing csv's\n",
    "exname='' # extra name to add to saved results\n",
    "tfpath='TransferSet' # path of transfer data\n",
    "exname2='' # extra name for transfer data\n",
    "\n",
    "\n",
    "nname=path+exname\n",
    "nnname=tfpath+exname2\n",
    "params=dict(\n",
    "    name=nname,\n",
    "    tfname=nnname,\n",
    "    headshape = [2048],\n",
    "    bodyshape = [],\n",
    "    dr=0.5,\n",
    "    combine_mode='cos',\n",
    "    lr=0.0001,\n",
    "    nsupport=100,\n",
    "    niter=100,\n",
    "    )\n",
    "\n",
    "modelname = \"%s_%s_%.2f_%s_%s\" % (params['name'],params['combine_mode'], params['dr'],\n",
    "                             '-'.join([str(i) for i in params['headshape']]),\n",
    "                             '-'.join([str(i) for i in params['bodyshape']]))\n",
    "tfmodelname = \"%s_%s_%.2f_%s_%s_tf%s\" % (params['name'], params['combine_mode'], params['dr'],\n",
    "                                  '-'.join([str(i) for i in params['headshape']]),\n",
    "                                  '-'.join([str(i) for i in params['bodyshape']]),params['tfname'])"
   ]
  },
  {
   "cell_type": "code",
   "execution_count": null,
   "id": "6d133bc9",
   "metadata": {},
   "outputs": [],
   "source": [
    "\"\"\"make data pairs\"\"\"\n",
    "create_glob_set(path,X,Y,label,7000,7000,nnpairs=0,exceptions=exceptions,exname=exname,testsize=0.1, maxrows=None)"
   ]
  },
  {
   "cell_type": "code",
   "execution_count": null,
   "id": "c83f2352",
   "metadata": {},
   "outputs": [],
   "source": [
    "\"\"\"Train Cycle\"\"\"\n",
    "model,losses,_ = trainCycle(params)\n",
    "losses.to_csv(\"%s_losses.csv\"%modelname)"
   ]
  },
  {
   "cell_type": "code",
   "execution_count": null,
   "id": "5d03dbe4",
   "metadata": {},
   "outputs": [],
   "source": [
    "\"\"\"Test Cycle\"\"\"\n",
    "model = loadModel(\"model_%s.pt\" % (modelname))\n",
    "y_proba,y_matrix = testCycle(model, params, saveName=modelname, thresh=0.5,seed=777)"
   ]
  },
  {
   "cell_type": "code",
   "execution_count": null,
   "id": "78a564cb",
   "metadata": {},
   "outputs": [],
   "source": [
    "\"\"\"transfer learning\"\"\"\n",
    "create_glob_set(tfpath, X, Y, label, 7000, 7000, nnpairs=0, exceptions=exceptions, exname=exname2, testsize=0.1,maxrows=None)\n",
    "\n",
    "model = loadModel(\"model_%s.pt\" % (modelname))\n",
    "tmodel,losses,_ = transferTrainCycle(model,params)\n",
    "\n",
    "\"\"\"transfer testing\"\"\"\n",
    "tmodel=loadModel(\"model_%s.pt\" % (tfmodelname))\n",
    "y_proba, y_matrix = tfTestCycle(tmodel, params, saveName=tfmodelname, thresh=0.5, seed=777)\n"
   ]
  },
  {
   "cell_type": "code",
   "execution_count": null,
   "id": "3bee1584",
   "metadata": {},
   "outputs": [],
   "source": [
    "\"\"\"Test cycle with different support (Fewshot)\"\"\"\n",
    "model = loadModel(\"model_%s.pt\" % (tfmodelname))\n",
    "test_raw = pd.DataFrame()\n",
    "support_set = dict()\n",
    "\n",
    "\n",
    "## add support from directory\n",
    "support_set, test_raw = addSupport(Y, 'FewshotSet', support_set, test_raw, testPerc=0.1)\n",
    "model.support_pos = support_set\n",
    "\n",
    "y_test = test_raw.loc[:, 'class']\n",
    "y_proba, y_matrix = testCycle(model, params, saveName=None, test_raw=test_raw,thresh=0.5)\n"
   ]
  },
  {
   "cell_type": "code",
   "execution_count": null,
   "id": "001c2484",
   "metadata": {},
   "outputs": [],
   "source": [
    "\"\"\"Cosine Similarity\"\"\"\n",
    "from siamese_general_fit import predict_cos\n",
    "import numpy as np\n",
    "model = loadModel(\"model_%s.pt\" % (modelname))\n",
    "test_raw = pd.read_csv(nname + \"_sim_test.csv\")\n",
    "y_proba=predict_cos(model,test_raw[X].values.astype(np.float64),n_support=100,iter=100, random_seed=777)\n",
    "\n",
    "y_test = test_raw.loc[:, 'class']\n",
    "\n",
    "y_matrix = y_proba.groupby(axis=1, level=0).max()\n",
    "y_matrix['LABEL'] = y_test\n",
    "y_matrix[label] = test_raw[label]\n",
    "y_matrix = y_matrix.reset_index(drop=True)\n",
    "\n",
    "res=neo_evaluation(y_matrix,y_test,thresh=0.6,noneg=True)\n",
    "print(res)\n",
    "\n",
    "multi_ytest = pd.read_csv(\"%sml_sim_test.csv\" % nname)\n",
    "acc, pre, rec, f1, roc, ap, cf = evaluation_multilabel(y_matrix,multi_ytest,thresh=0.6)\n",
    "print(\"acc, pre, rec, f1, roc, ap\")\n",
    "print(acc, pre, rec, f1, roc, ap)"
   ]
  },
  {
   "cell_type": "code",
   "execution_count": null,
   "id": "dd57935e",
   "metadata": {},
   "outputs": [],
   "source": [
    "\"\"\"multi label learning\"\"\"\n",
    "path='multi_label_data'\n",
    "exname=''\n",
    "nname=path+exname\n",
    "nnname=tfpath+exname2\n",
    "params=dict(\n",
    "    name=nname,\n",
    "    tfname=nnname,\n",
    "    headshape = [2048],\n",
    "    bodyshape = [],\n",
    "    dr=0.5,\n",
    "    combine_mode='cos',\n",
    "    lr=0.0001,\n",
    "    nsupport=100,\n",
    "    niter=100,\n",
    "    )\n",
    "modelname = \"%s_%s_%.2f_%s_%s\" % (params['name'],params['combine_mode'], params['dr'],\n",
    "                             '-'.join([str(i) for i in params['headshape']]),\n",
    "                             '-'.join([str(i) for i in params['bodyshape']]))\n",
    "tfmodelname = \"%s_%s_%.2f_%s_%s_tf%s\" % (params['name'], params['combine_mode'], params['dr'],\n",
    "                                  '-'.join([str(i) for i in params['headshape']]),\n",
    "                                  '-'.join([str(i) for i in params['bodyshape']]),params['tfname'])\n",
    "\n",
    "\n",
    "create_from_multilabel(path,X,Y,label,5000,5000,exname=exname)\n",
    "model,losses,_ = trainCycle(params)\n",
    "losses.to_csv(\"%s_losses.csv\"%modelname)\n",
    "# single label res\n",
    "model = loadModel(\"model_%s.pt\" % (modelname))\n",
    "y_proba, y_matrix = testCycle(model, params, saveName=modelname, thresh=0.5, seed=777,noneg=True)\n",
    "\n",
    "multi_ytest=pd.read_csv(\"%sml_sim_test.csv\"%nname)\n",
    "acc, pre, rec, f1, roc, ap, cf = evaluation_multilabel(y_matrix,multi_ytest)\n",
    "print(\"acc, pre, rec, f1, roc, ap\")\n",
    "print(acc, pre, rec, f1, roc, ap)\n"
   ]
  }
 ],
 "metadata": {
  "kernelspec": {
   "display_name": "Python 3 (ipykernel)",
   "language": "python",
   "name": "python3"
  },
  "language_info": {
   "codemirror_mode": {
    "name": "ipython",
    "version": 3
   },
   "file_extension": ".py",
   "mimetype": "text/x-python",
   "name": "python",
   "nbconvert_exporter": "python",
   "pygments_lexer": "ipython3",
   "version": "3.7.9"
  }
 },
 "nbformat": 4,
 "nbformat_minor": 5
}
